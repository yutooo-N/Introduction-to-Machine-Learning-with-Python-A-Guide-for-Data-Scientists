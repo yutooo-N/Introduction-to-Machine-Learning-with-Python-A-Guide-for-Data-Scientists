{
 "cells": [
  {
   "cell_type": "markdown",
   "metadata": {},
   "source": [
    "# ナイーブベイズクラス分類器"
   ]
  },
  {
   "cell_type": "markdown",
   "metadata": {},
   "source": [
    "ナイーブベイズクラス分類器は線形モデルによく似た分類器。    \n",
    "線形モデルより高速だが汎化性能が劣る。"
   ]
  },
  {
   "cell_type": "markdown",
   "metadata": {},
   "source": [
    "- 特徴\n",
    "\n",
    "```\n",
    "線形モデルに似たクラス分類器．\n",
    "訓練が線形モデルよりも高速．\n",
    "速度の代償として，汎化機能ではLogisticRegression, LinearSVCよりも僅かに劣る．\n",
    "\n",
    "高速で学習出来る理由として，クラスに対する統計値をここの特徴量ごとに集めてパラメータを学習するからである．\n",
    "```\n",
    "\n",
    "- 種類\n",
    "    - GaussianNB: 任意の連続値\n",
    "    - BernoulliNB: 二値データ\n",
    "    - MultinomialNB: カウントデータ"
   ]
  },
  {
   "cell_type": "code",
   "execution_count": 2,
   "metadata": {},
   "outputs": [],
   "source": [
    "import numpy as np\n",
    "\n",
    "X = np.array([[0, 1, 0, 1],\n",
    "                        [1, 0, 1, 1],\n",
    "                        [0, 0, 0, 1],\n",
    "                        [1, 0, 1, 0]])\n",
    "\n",
    "y = np.array([0, 1, 0, 1])"
   ]
  },
  {
   "cell_type": "markdown",
   "metadata": {},
   "source": [
    "ゼロと非ゼロの要素数のカウントのコーディング例"
   ]
  },
  {
   "cell_type": "code",
   "execution_count": 3,
   "metadata": {},
   "outputs": [
    {
     "name": "stdout",
     "output_type": "stream",
     "text": [
      "label 0\n",
      "label 1\n",
      "Feature counts:\n",
      "{0: array([0, 1, 0, 2]), 1: array([2, 0, 2, 1])}\n"
     ]
    }
   ],
   "source": [
    "counts = {}\n",
    "for label in np.unique(y):\n",
    "    print(\"label\", label)\n",
    "    counts[label] = X[y == label].sum(axis=0)\n",
    "print(\"Feature counts:\\n{}\".format(counts))"
   ]
  },
  {
   "cell_type": "markdown",
   "metadata": {},
   "source": [
    "# GaussianNB"
   ]
  },
  {
   "cell_type": "markdown",
   "metadata": {},
   "source": [
    "ユリデータ分類"
   ]
  },
  {
   "cell_type": "code",
   "execution_count": 2,
   "metadata": {
    "collapsed": true
   },
   "outputs": [],
   "source": [
    "import mglearn\n",
    "import matplotlib.pyplot as plt\n",
    "from sklearn.linear_model import LinearRegression\n",
    "from sklearn.model_selection import train_test_split\n",
    "%matplotlib inline"
   ]
  },
  {
   "cell_type": "code",
   "execution_count": 3,
   "metadata": {},
   "outputs": [
    {
     "data": {
      "text/plain": [
       "1.0"
      ]
     },
     "execution_count": 3,
     "metadata": {},
     "output_type": "execute_result"
    }
   ],
   "source": [
    "from sklearn import datasets\n",
    "iris = datasets.load_iris()\n",
    "X_train, X_test, y_train, y_test = train_test_split(iris.data, iris.target, random_state=42)\n",
    "from sklearn.naive_bayes import GaussianNB\n",
    "gnb = GaussianNB().fit(X_train, y_train)\n",
    "gnb.score(X_test, y_test)"
   ]
  },
  {
   "cell_type": "code",
   "execution_count": 79,
   "metadata": {},
   "outputs": [],
   "source": [
    "# from sklearn.naive_bayes import MultinomialNB\n",
    "# from sklearn import metrics\n",
    "# from sklearn.datasets import fetch_20newsgroups\n",
    "# from sklearn.feature_extraction.text import CountVectorizer\n",
    "\n",
    "# categories = ['alt.atheism', 'talk.religion.misc','comp.graphics', 'sci.space']\n",
    "# newsgroups_test = fetch_20newsgroups(subset='test', categories=categories)\n",
    "# vectorizer = CountVectorizer()\n",
    "# vectors_test = vectorizer.transform(newsgroups_test.data)\n",
    "# clf = MultinomialNB(alpha=.01)\n",
    "# clf.fit(vectors, newsgroups_train.target)\n",
    "# pred = clf.predict(vectors_test)\n",
    "# metrics.f1_score(newsgroups_test.target, pred, average='macro')"
   ]
  },
  {
   "cell_type": "code",
   "execution_count": 80,
   "metadata": {},
   "outputs": [
    {
     "data": {
      "text/plain": [
       "0.83519815555028587"
      ]
     },
     "execution_count": 80,
     "metadata": {},
     "output_type": "execute_result"
    }
   ],
   "source": [
    "from sklearn.naive_bayes import MultinomialNB\n",
    "from sklearn import metrics\n",
    "from sklearn.datasets import fetch_20newsgroups\n",
    "from sklearn.feature_extraction.text import CountVectorizer\n",
    "newsgroups_train = fetch_20newsgroups(subset='train',\n",
    "                                       remove=('headers', 'footers', 'quotes'),\n",
    "                                       categories=categories)\n",
    "vectors = vectorizer.fit_transform(newsgroups_train.data)\n",
    "clf = MultinomialNB(alpha=.01)\n",
    "clf.fit(vectors, newsgroups_train.target)\n",
    "vectors_test = vectorizer.transform(newsgroups_test.data)\n",
    "pred = clf.predict(vectors_test)\n",
    "metrics.f1_score(newsgroups_test.target, pred, average='macro')"
   ]
  },
  {
   "cell_type": "markdown",
   "metadata": {},
   "source": [
    "### ナイーブベイズの利点, 欠点, パラメータ\n",
    "\n",
    "- パラメータ\n",
    "\n",
    "```\n",
    "alpha: モデルの複雑さを制御する．\n",
    "alphaが大きいとスムーズになり，モデルの複雑さが減少する．\n",
    "\n",
    "GaussianNBは高次元データ，他の二つはテキストのようなカウントデータに対して用いられる．\n",
    "MultinomialNBよりBernoulliNBの方が若干性能がいいが，非ゼロ特徴量(大きなドキュメント)にはMultinomialNBが有効\n",
    "```\n",
    "\n",
    "    \n",
    "ナイーブベイズモデルの利点と欠点の多くは線形モデルと共通する。    \n",
    "訓練も予測も非常に高速で、訓練の過程も理解しやすい。    \n",
    "高次元の疎なデータに対してうまく機能するし、パラメータの設定に対しても頑健である。    \n",
    "線形モデルですら時間のかかるような大規模データに対するベースラインモデルとして非常に有用。"
   ]
  },
  {
   "cell_type": "markdown",
   "metadata": {},
   "source": [
    "<hr>"
   ]
  },
  {
   "cell_type": "code",
   "execution_count": 95,
   "metadata": {},
   "outputs": [
    {
     "name": "stdout",
     "output_type": "stream",
     "text": [
      "(2034, 26879)\n",
      "  (0, 21225)\t1\n",
      "  (0, 22504)\t1\n",
      "  (0, 10874)\t1\n",
      "  (0, 4030)\t1\n",
      "  (0, 5604)\t1\n",
      "  (0, 10651)\t1\n",
      "  (0, 10701)\t2\n",
      "  (0, 11962)\t1\n",
      "  (0, 21173)\t1\n",
      "  (0, 20041)\t1\n",
      "  (0, 2408)\t1\n",
      "  (0, 4326)\t1\n",
      "  (0, 14847)\t1\n",
      "  (0, 21177)\t1\n",
      "  (0, 24057)\t2\n",
      "  (0, 21409)\t1\n",
      "  (0, 2427)\t1\n",
      "  (0, 15444)\t1\n",
      "  (0, 21284)\t1\n",
      "  (0, 9935)\t1\n",
      "  (0, 17134)\t1\n",
      "  (0, 24082)\t7\n",
      "  (0, 12920)\t3\n",
      "  (0, 23103)\t1\n",
      "  (0, 17121)\t1\n",
      "  :\t:\n",
      "  (1, 23758)\t1\n",
      "  (1, 16783)\t1\n",
      "  (1, 24212)\t1\n",
      "  (1, 26270)\t1\n",
      "  (1, 10165)\t1\n",
      "  (1, 7972)\t1\n",
      "  (1, 3341)\t1\n",
      "  (1, 22163)\t1\n",
      "  (1, 26066)\t1\n",
      "  (1, 14330)\t2\n",
      "  (1, 6887)\t1\n",
      "  (1, 9744)\t1\n",
      "  (1, 4252)\t1\n",
      "  (1, 21696)\t1\n",
      "  (1, 10651)\t1\n",
      "  (1, 11962)\t1\n",
      "  (1, 4326)\t1\n",
      "  (1, 14847)\t1\n",
      "  (1, 24082)\t1\n",
      "  (1, 3254)\t1\n",
      "  (1, 13712)\t1\n",
      "  (1, 24380)\t4\n",
      "  (1, 3042)\t1\n",
      "  (1, 26405)\t1\n",
      "  (1, 24080)\t1\n"
     ]
    }
   ],
   "source": [
    "from sklearn.naive_bayes import MultinomialNB\n",
    "from sklearn import metrics\n",
    "from sklearn.datasets import fetch_20newsgroups\n",
    "from sklearn.feature_extraction.text import CountVectorizer\n",
    "newsgroups_train = fetch_20newsgroups(subset='train',\n",
    "                                       remove=('headers', 'footers', 'quotes'),\n",
    "                                       categories=categories)\n",
    "vectors = vectorizer.fit_transform(newsgroups_train.data)\n",
    "print(vectors.shape)\n",
    "print(vectors[:2,:])\n",
    "\n",
    "# vectors_test = vectorizer.transform(newsgroups_test.data)\n",
    "\n",
    "# print(vectors_test[:5])\n",
    "# iris = datasets.load_iris()\n",
    "# X_train, X_test, y_train, y_test = train_test_split(iris.data, iris.target, random_state=42)\n",
    "\n",
    "#http://www.kamishima.net/mlmpyja/nbayes1/fit1.html\n",
    "#https://github.com/krzjoa/Bayes/blob/master/bayes/classifiers/cnb.py"
   ]
  },
  {
   "cell_type": "code",
   "execution_count": 19,
   "metadata": {},
   "outputs": [
    {
     "name": "stdout",
     "output_type": "stream",
     "text": [
      "5\n"
     ]
    }
   ],
   "source": [
    "# # alpha = 1\n",
    "# # weight_normalized=False\n",
    "# # complement_features_ = None\n",
    "# # alpha_sum_ = None\n",
    "# import numpy as np\n",
    "\n",
    "\n",
    "# X = np.array([[1,1,1,1,1],[0,0,0,0,0], [0,0,0,0,0], [1,1,1,1,1]])\n",
    "# y = [1,0,0,1]\n",
    "\n",
    "# pY_ = None\n",
    "# pXgY_ = None\n",
    "# n_samples = X.shape[0]\n",
    "# n_features = X.shape[1]\n",
    "# n_classes = 2\n",
    "# n_fvalues = 2\n",
    "\n",
    "# print(n_features)"
   ]
  },
  {
   "cell_type": "code",
   "execution_count": 24,
   "metadata": {},
   "outputs": [],
   "source": [
    "# def fit(X, y):\n",
    "#     nY = np.zeros(n_classes, dtype=int)\n",
    "#     for i in range(n_samples):\n",
    "#         nY[y[i]] += 1\n",
    "\n",
    "#     pY_ = np.empty(n_classes, dtype=float)\n",
    "#     print(pY_)\n",
    "#     for i in range(n_classes):\n",
    "#         pY_[i] = nY[i] / n_samples\n",
    "\n",
    "#     nXY = np.zeros((n_features, n_fvalues, n_classes), dtype=int)\n",
    "#     for i in range(n_samples):\n",
    "#         for j in range(n_features):\n",
    "#             nXY[j, X[i, j], y[i]] += 1\n",
    "\n",
    "#     pXgY_ = np.empty((n_features, n_fvalues, n_classes), dtype=float)\n",
    "#     print(pXgY_)\n",
    "#     for j in range(n_features):\n",
    "#         for xi in range(n_fvalues):\n",
    "#             for yi in range(n_classes):\n",
    "#                 pXgY_[j, xi, yi] = nXY[j, xi, yi] / float(nY[yi])\n",
    "    \n",
    "# def predict(X):\n",
    "#     print(pY_)\n",
    "#     logpXY = np.log(pY_)\n",
    "#     for j in range(n_features):\n",
    "#         logpXY = logpXY + np.log(pXgY_[j, xi[j], :])\n",
    "#     y[i] = np.argmax(logpXY)\n"
   ]
  },
  {
   "cell_type": "code",
   "execution_count": 26,
   "metadata": {},
   "outputs": [
    {
     "name": "stdout",
     "output_type": "stream",
     "text": [
      "[  9.88131292e-324   9.88131292e-324]\n",
      "[[[  9.88131292e-324   0.00000000e+000]\n",
      "  [  0.00000000e+000   9.88131292e-324]]\n",
      "\n",
      " [[  9.88131292e-324   0.00000000e+000]\n",
      "  [  0.00000000e+000   9.88131292e-324]]\n",
      "\n",
      " [[  9.88131292e-324   0.00000000e+000]\n",
      "  [  0.00000000e+000   9.88131292e-324]]\n",
      "\n",
      " [[  9.88131292e-324   0.00000000e+000]\n",
      "  [  0.00000000e+000   9.88131292e-324]]\n",
      "\n",
      " [[  9.88131292e-324   0.00000000e+000]\n",
      "  [  0.00000000e+000   9.88131292e-324]]]\n"
     ]
    }
   ],
   "source": [
    "# fit(X, y)"
   ]
  },
  {
   "cell_type": "code",
   "execution_count": 27,
   "metadata": {},
   "outputs": [
    {
     "name": "stdout",
     "output_type": "stream",
     "text": [
      "None\n"
     ]
    },
    {
     "ename": "AttributeError",
     "evalue": "'NoneType' object has no attribute 'log'",
     "output_type": "error",
     "traceback": [
      "\u001b[0;31m---------------------------------------------------------------------------\u001b[0m",
      "\u001b[0;31mAttributeError\u001b[0m                            Traceback (most recent call last)",
      "\u001b[0;32m<ipython-input-27-ab3cd6c0d209>\u001b[0m in \u001b[0;36m<module>\u001b[0;34m()\u001b[0m\n\u001b[0;32m----> 1\u001b[0;31m \u001b[0mpredict\u001b[0m\u001b[0;34m(\u001b[0m\u001b[0mX\u001b[0m\u001b[0;34m)\u001b[0m\u001b[0;34m\u001b[0m\u001b[0m\n\u001b[0m",
      "\u001b[0;32m<ipython-input-24-3682749af5f3>\u001b[0m in \u001b[0;36mpredict\u001b[0;34m(X)\u001b[0m\n\u001b[1;32m     23\u001b[0m \u001b[0;32mdef\u001b[0m \u001b[0mpredict\u001b[0m\u001b[0;34m(\u001b[0m\u001b[0mX\u001b[0m\u001b[0;34m)\u001b[0m\u001b[0;34m:\u001b[0m\u001b[0;34m\u001b[0m\u001b[0m\n\u001b[1;32m     24\u001b[0m     \u001b[0mprint\u001b[0m\u001b[0;34m(\u001b[0m\u001b[0mpY_\u001b[0m\u001b[0;34m)\u001b[0m\u001b[0;34m\u001b[0m\u001b[0m\n\u001b[0;32m---> 25\u001b[0;31m     \u001b[0mlogpXY\u001b[0m \u001b[0;34m=\u001b[0m \u001b[0mnp\u001b[0m\u001b[0;34m.\u001b[0m\u001b[0mlog\u001b[0m\u001b[0;34m(\u001b[0m\u001b[0mpY_\u001b[0m\u001b[0;34m)\u001b[0m\u001b[0;34m\u001b[0m\u001b[0m\n\u001b[0m\u001b[1;32m     26\u001b[0m     \u001b[0;32mfor\u001b[0m \u001b[0mj\u001b[0m \u001b[0;32min\u001b[0m \u001b[0mrange\u001b[0m\u001b[0;34m(\u001b[0m\u001b[0mn_features\u001b[0m\u001b[0;34m)\u001b[0m\u001b[0;34m:\u001b[0m\u001b[0;34m\u001b[0m\u001b[0m\n\u001b[1;32m     27\u001b[0m         \u001b[0mlogpXY\u001b[0m \u001b[0;34m=\u001b[0m \u001b[0mlogpXY\u001b[0m \u001b[0;34m+\u001b[0m \u001b[0mnp\u001b[0m\u001b[0;34m.\u001b[0m\u001b[0mlog\u001b[0m\u001b[0;34m(\u001b[0m\u001b[0mpXgY_\u001b[0m\u001b[0;34m[\u001b[0m\u001b[0mj\u001b[0m\u001b[0;34m,\u001b[0m \u001b[0mxi\u001b[0m\u001b[0;34m[\u001b[0m\u001b[0mj\u001b[0m\u001b[0;34m]\u001b[0m\u001b[0;34m,\u001b[0m \u001b[0;34m:\u001b[0m\u001b[0;34m]\u001b[0m\u001b[0;34m)\u001b[0m\u001b[0;34m\u001b[0m\u001b[0m\n",
      "\u001b[0;31mAttributeError\u001b[0m: 'NoneType' object has no attribute 'log'"
     ]
    }
   ],
   "source": [
    "predict(X)"
   ]
  },
  {
   "cell_type": "code",
   "execution_count": 70,
   "metadata": {
    "collapsed": true
   },
   "outputs": [],
   "source": [
    "# cnb = ComplementNB()\n",
    "# cnb.fit(X_train, y_train).score(X_test, y_test)\n",
    "\n",
    "\n",
    "# alpha = 1\n",
    "# weight_normalized=False\n",
    "# complement_features_ = None\n",
    "# alpha_sum_ = None\n",
    "\n",
    "# pY_ = None\n",
    "# pXgY_ = None\n",
    "# n_samples = X.shape[0]\n",
    "# n_features = X.shape[1]\n",
    "# n_classes = 2\n",
    "# n_fvalues = 2\n",
    "\n",
    "# if n_samples != len(y):\n",
    "#     raise ValueError('Mismatched number of samples.')\n",
    "\n",
    "import numpy as np\n",
    "\n",
    "\n",
    "# X = np.array([[1,1,1,1,1],[0,0,0,0,0], [0,0,0,0,0], [1,1,1,1,1]])\n",
    "# y = [1,0,0,1]\n",
    "\n",
    "class ComplementNB(object):\n",
    "    def __init__(self):\n",
    "        self.pY_ = None\n",
    "        self.pXgY_ = None\n",
    "\n",
    "    def fit(self, X, y):\n",
    "        n_samples = X.shape[0]\n",
    "        n_features = X.shape[1]\n",
    "        if n_samples != len(y):\n",
    "            raise ValueError('Mismatched number of samples.')\n",
    "\n",
    "        \n",
    "        nY = np.zeros(n_classes, dtype=int)\n",
    "        print(\"nY.shape \", nY.shape)\n",
    "        print(\"len(y) \", len(y))\n",
    "        for i in range(n_samples):\n",
    "            nY[y[i]] += 1\n",
    "\n",
    "        self.pY_ = np.empty(n_classes, dtype=float)\n",
    "        for i in range(n_classes):\n",
    "            self.pY_[i] = nY[i] / n_samples\n",
    "\n",
    "        nXY = np.zeros((n_features, n_fvalues, n_classes), dtype=int)\n",
    "        for i in range(n_samples):\n",
    "            for j in range(n_features):\n",
    "                nXY[j, X[i, j], y[i]] += 1\n",
    "\n",
    "        self.pXgY_ = np.empty((n_features, n_fvalues, n_classes),\n",
    "                              dtype=float)\n",
    "        for j in range(n_features):\n",
    "            for xi in range(n_fvalues):\n",
    "                for yi in range(n_classes):\n",
    "                    self.pXgY_[j, xi, yi] = nXY[j, xi, yi] / float(nY[yi])\n",
    "\n",
    "    def predict(self, X):\n",
    "        logpXY = np.log(self.pY_)\n",
    "#         for j in range(n_features):\n",
    "#             logpXY = logpXY + np.log(self.pXgY_[j, xi[j], :])\n",
    "        print(np.argmax(logpXY))\n",
    "\n"
   ]
  },
  {
   "cell_type": "code",
   "execution_count": 71,
   "metadata": {},
   "outputs": [
    {
     "name": "stdout",
     "output_type": "stream",
     "text": [
      "nY.shape  (2,)\n",
      "len(y)  4\n"
     ]
    }
   ],
   "source": [
    "cnb = ComplementNB()\n",
    "cnb.fit(X, y)"
   ]
  },
  {
   "cell_type": "code",
   "execution_count": 61,
   "metadata": {},
   "outputs": [
    {
     "name": "stdout",
     "output_type": "stream",
     "text": [
      "0\n"
     ]
    }
   ],
   "source": [
    "# np.array([1,1,1,1,1])\n",
    "t0 = np.array([0,0,0,0,0])\n",
    "t1 = np.array([1,1,1,1,1])\n",
    "\n",
    "cnb.predict(t0)"
   ]
  },
  {
   "cell_type": "code",
   "execution_count": 43,
   "metadata": {},
   "outputs": [
    {
     "name": "stdout",
     "output_type": "stream",
     "text": [
      "0\n"
     ]
    }
   ],
   "source": [
    "cnb.predict(t1)"
   ]
  },
  {
   "cell_type": "code",
   "execution_count": 72,
   "metadata": {},
   "outputs": [
    {
     "name": "stdout",
     "output_type": "stream",
     "text": [
      "nY.shape  (2,)\n",
      "len(y)  112\n"
     ]
    },
    {
     "ename": "IndexError",
     "evalue": "index 2 is out of bounds for axis 0 with size 2",
     "output_type": "error",
     "traceback": [
      "\u001b[0;31m---------------------------------------------------------------------------\u001b[0m",
      "\u001b[0;31mIndexError\u001b[0m                                Traceback (most recent call last)",
      "\u001b[0;32m<ipython-input-72-d429c0e3d244>\u001b[0m in \u001b[0;36m<module>\u001b[0;34m()\u001b[0m\n\u001b[1;32m      3\u001b[0m \u001b[0;31m# y_train = list(y_train)\u001b[0m\u001b[0;34m\u001b[0m\u001b[0;34m\u001b[0m\u001b[0m\n\u001b[1;32m      4\u001b[0m \u001b[0mcnb\u001b[0m \u001b[0;34m=\u001b[0m \u001b[0mComplementNB\u001b[0m\u001b[0;34m(\u001b[0m\u001b[0;34m)\u001b[0m\u001b[0;34m\u001b[0m\u001b[0m\n\u001b[0;32m----> 5\u001b[0;31m \u001b[0mcnb\u001b[0m\u001b[0;34m.\u001b[0m\u001b[0mfit\u001b[0m\u001b[0;34m(\u001b[0m\u001b[0mX_train\u001b[0m\u001b[0;34m,\u001b[0m \u001b[0my_train\u001b[0m\u001b[0;34m)\u001b[0m\u001b[0;34m\u001b[0m\u001b[0m\n\u001b[0m",
      "\u001b[0;32m<ipython-input-70-9f7e420cbdb6>\u001b[0m in \u001b[0;36mfit\u001b[0;34m(self, X, y)\u001b[0m\n\u001b[1;32m     40\u001b[0m         \u001b[0mprint\u001b[0m\u001b[0;34m(\u001b[0m\u001b[0;34m\"len(y) \"\u001b[0m\u001b[0;34m,\u001b[0m \u001b[0mlen\u001b[0m\u001b[0;34m(\u001b[0m\u001b[0my\u001b[0m\u001b[0;34m)\u001b[0m\u001b[0;34m)\u001b[0m\u001b[0;34m\u001b[0m\u001b[0m\n\u001b[1;32m     41\u001b[0m         \u001b[0;32mfor\u001b[0m \u001b[0mi\u001b[0m \u001b[0;32min\u001b[0m \u001b[0mrange\u001b[0m\u001b[0;34m(\u001b[0m\u001b[0mn_samples\u001b[0m\u001b[0;34m)\u001b[0m\u001b[0;34m:\u001b[0m\u001b[0;34m\u001b[0m\u001b[0m\n\u001b[0;32m---> 42\u001b[0;31m             \u001b[0mnY\u001b[0m\u001b[0;34m[\u001b[0m\u001b[0my\u001b[0m\u001b[0;34m[\u001b[0m\u001b[0mi\u001b[0m\u001b[0;34m]\u001b[0m\u001b[0;34m]\u001b[0m \u001b[0;34m+=\u001b[0m \u001b[0;36m1\u001b[0m\u001b[0;34m\u001b[0m\u001b[0m\n\u001b[0m\u001b[1;32m     43\u001b[0m \u001b[0;34m\u001b[0m\u001b[0m\n\u001b[1;32m     44\u001b[0m         \u001b[0mself\u001b[0m\u001b[0;34m.\u001b[0m\u001b[0mpY_\u001b[0m \u001b[0;34m=\u001b[0m \u001b[0mnp\u001b[0m\u001b[0;34m.\u001b[0m\u001b[0mempty\u001b[0m\u001b[0;34m(\u001b[0m\u001b[0mn_classes\u001b[0m\u001b[0;34m,\u001b[0m \u001b[0mdtype\u001b[0m\u001b[0;34m=\u001b[0m\u001b[0mfloat\u001b[0m\u001b[0;34m)\u001b[0m\u001b[0;34m\u001b[0m\u001b[0m\n",
      "\u001b[0;31mIndexError\u001b[0m: index 2 is out of bounds for axis 0 with size 2"
     ]
    }
   ],
   "source": [
    "iris = datasets.load_iris()\n",
    "X_train, X_test, y_train, y_test = train_test_split(iris.data, iris.target, random_state=42)\n",
    "# y_train = list(y_train)\n",
    "cnb = ComplementNB()\n",
    "cnb.fit(X_train, y_train)\n"
   ]
  },
  {
   "cell_type": "code",
   "execution_count": 45,
   "metadata": {},
   "outputs": [
    {
     "data": {
      "text/plain": [
       "(112, 4)"
      ]
     },
     "execution_count": 45,
     "metadata": {},
     "output_type": "execute_result"
    }
   ],
   "source": [
    "X_train.shape"
   ]
  },
  {
   "cell_type": "code",
   "execution_count": 46,
   "metadata": {},
   "outputs": [
    {
     "data": {
      "text/plain": [
       "(112,)"
      ]
     },
     "execution_count": 46,
     "metadata": {},
     "output_type": "execute_result"
    }
   ],
   "source": [
    "y_train.shape"
   ]
  },
  {
   "cell_type": "code",
   "execution_count": 51,
   "metadata": {},
   "outputs": [],
   "source": [
    "y_train = list(y_train)\n"
   ]
  },
  {
   "cell_type": "code",
   "execution_count": 47,
   "metadata": {},
   "outputs": [
    {
     "data": {
      "text/plain": [
       "(4, 5)"
      ]
     },
     "execution_count": 47,
     "metadata": {},
     "output_type": "execute_result"
    }
   ],
   "source": [
    "X = np.array([[1,1,1,1,1],[0,0,0,0,0], [0,0,0,0,0], [1,1,1,1,1]])\n",
    "X.shape"
   ]
  },
  {
   "cell_type": "code",
   "execution_count": 48,
   "metadata": {},
   "outputs": [
    {
     "ename": "AttributeError",
     "evalue": "'list' object has no attribute 'shape'",
     "output_type": "error",
     "traceback": [
      "\u001b[0;31m---------------------------------------------------------------------------\u001b[0m",
      "\u001b[0;31mAttributeError\u001b[0m                            Traceback (most recent call last)",
      "\u001b[0;32m<ipython-input-48-2a9ec0acd4c8>\u001b[0m in \u001b[0;36m<module>\u001b[0;34m()\u001b[0m\n\u001b[1;32m      1\u001b[0m \u001b[0my\u001b[0m \u001b[0;34m=\u001b[0m \u001b[0;34m[\u001b[0m\u001b[0;36m1\u001b[0m\u001b[0;34m,\u001b[0m\u001b[0;36m0\u001b[0m\u001b[0;34m,\u001b[0m\u001b[0;36m0\u001b[0m\u001b[0;34m,\u001b[0m\u001b[0;36m1\u001b[0m\u001b[0;34m]\u001b[0m\u001b[0;34m\u001b[0m\u001b[0m\n\u001b[0;32m----> 2\u001b[0;31m \u001b[0my\u001b[0m\u001b[0;34m.\u001b[0m\u001b[0mshape\u001b[0m\u001b[0;34m\u001b[0m\u001b[0m\n\u001b[0m",
      "\u001b[0;31mAttributeError\u001b[0m: 'list' object has no attribute 'shape'"
     ]
    }
   ],
   "source": [
    "y = [1,0,0,1]\n",
    "y.shape"
   ]
  },
  {
   "cell_type": "code",
   "execution_count": null,
   "metadata": {
    "collapsed": true
   },
   "outputs": [],
   "source": []
  }
 ],
 "metadata": {
  "kernelspec": {
   "display_name": "Python 3",
   "language": "python",
   "name": "python3"
  },
  "language_info": {
   "codemirror_mode": {
    "name": "ipython",
    "version": 3
   },
   "file_extension": ".py",
   "mimetype": "text/x-python",
   "name": "python",
   "nbconvert_exporter": "python",
   "pygments_lexer": "ipython3",
   "version": "3.5.4"
  }
 },
 "nbformat": 4,
 "nbformat_minor": 2
}
