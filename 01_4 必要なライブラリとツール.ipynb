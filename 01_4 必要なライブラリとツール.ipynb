{
 "cells": [
  {
   "cell_type": "code",
   "execution_count": 5,
   "metadata": {
    "collapsed": true
   },
   "outputs": [],
   "source": [
    "import math\n",
    "import numpy as np\n",
    "from scipy import sparse\n",
    "%matplotlib inline\n",
    "import matplotlib.pyplot as plt\n",
    "import pandas as pd"
   ]
  },
  {
   "cell_type": "markdown",
   "metadata": {},
   "source": [
    "# numpy"
   ]
  },
  {
   "cell_type": "code",
   "execution_count": 4,
   "metadata": {},
   "outputs": [
    {
     "name": "stdout",
     "output_type": "stream",
     "text": [
      "x:\n",
      "[[1 2 3]\n",
      " [4 5 6]]\n"
     ]
    }
   ],
   "source": [
    "import numpy as np\n",
    "\n",
    "x = np.array([[1,2,3],[4,5,6]])\n",
    "\n",
    "print(\"x:\\n{}\".format(x))"
   ]
  },
  {
   "cell_type": "markdown",
   "metadata": {},
   "source": [
    "# scipy"
   ]
  },
  {
   "cell_type": "code",
   "execution_count": 54,
   "metadata": {},
   "outputs": [
    {
     "name": "stdout",
     "output_type": "stream",
     "text": [
      "eye:\n",
      "[[ 1.  0.  0.  0.]\n",
      " [ 0.  1.  0.  0.]\n",
      " [ 0.  0.  1.  0.]\n",
      " [ 0.  0.  0.  1.]]\n"
     ]
    }
   ],
   "source": [
    "from scipy import sparse\n",
    "#単位行列\n",
    "eye = np.eye(4)\n",
    "print(\"eye:\\n{}\".format(eye))"
   ]
  },
  {
   "cell_type": "code",
   "execution_count": 55,
   "metadata": {},
   "outputs": [
    {
     "name": "stdout",
     "output_type": "stream",
     "text": [
      "sparse_matrix:\n",
      "  (0, 0)\t1.0\n",
      "  (1, 1)\t1.0\n",
      "  (2, 2)\t1.0\n",
      "  (3, 3)\t1.0\n"
     ]
    }
   ],
   "source": [
    "#CSR圧縮形式の疎行列に変換\n",
    "sparse_matrix = sparse.csr_matrix(eye)\n",
    "print(\"sparse_matrix:\\n{}\".format(sparse_matrix))"
   ]
  },
  {
   "cell_type": "code",
   "execution_count": 17,
   "metadata": {},
   "outputs": [
    {
     "name": "stdout",
     "output_type": "stream",
     "text": [
      "eye_coo:\n",
      "  (0, 0)\t1.0\n",
      "  (0, 1)\t1.0\n",
      "  (0, 2)\t1.0\n",
      "  (0, 3)\t1.0\n"
     ]
    }
   ],
   "source": [
    "#座標格納方式 (COO)\n",
    "data = np.ones(4)\n",
    "row_indices = np.arange(4)\n",
    "col_indices = np.arange(4)\n",
    "eye_coo = sparse.coo_matrix(data,(row_indices, col_indices))\n",
    "print(\"eye_coo:\\n{}\".format(eye_coo))"
   ]
  },
  {
   "cell_type": "markdown",
   "metadata": {},
   "source": [
    "# matplotlib"
   ]
  },
  {
   "cell_type": "code",
   "execution_count": 19,
   "metadata": {},
   "outputs": [
    {
     "data": {
      "application/javascript": [
       "/* Put everything inside the global mpl namespace */\n",
       "window.mpl = {};\n",
       "\n",
       "\n",
       "mpl.get_websocket_type = function() {\n",
       "    if (typeof(WebSocket) !== 'undefined') {\n",
       "        return WebSocket;\n",
       "    } else if (typeof(MozWebSocket) !== 'undefined') {\n",
       "        return MozWebSocket;\n",
       "    } else {\n",
       "        alert('Your browser does not have WebSocket support.' +\n",
       "              'Please try Chrome, Safari or Firefox ≥ 6. ' +\n",
       "              'Firefox 4 and 5 are also supported but you ' +\n",
       "              'have to enable WebSockets in about:config.');\n",
       "    };\n",
       "}\n",
       "\n",
       "mpl.figure = function(figure_id, websocket, ondownload, parent_element) {\n",
       "    this.id = figure_id;\n",
       "\n",
       "    this.ws = websocket;\n",
       "\n",
       "    this.supports_binary = (this.ws.binaryType != undefined);\n",
       "\n",
       "    if (!this.supports_binary) {\n",
       "        var warnings = document.getElementById(\"mpl-warnings\");\n",
       "        if (warnings) {\n",
       "            warnings.style.display = 'block';\n",
       "            warnings.textContent = (\n",
       "                \"This browser does not support binary websocket messages. \" +\n",
       "                    \"Performance may be slow.\");\n",
       "        }\n",
       "    }\n",
       "\n",
       "    this.imageObj = new Image();\n",
       "\n",
       "    this.context = undefined;\n",
       "    this.message = undefined;\n",
       "    this.canvas = undefined;\n",
       "    this.rubberband_canvas = undefined;\n",
       "    this.rubberband_context = undefined;\n",
       "    this.format_dropdown = undefined;\n",
       "\n",
       "    this.image_mode = 'full';\n",
       "\n",
       "    this.root = $('<div/>');\n",
       "    this._root_extra_style(this.root)\n",
       "    this.root.attr('style', 'display: inline-block');\n",
       "\n",
       "    $(parent_element).append(this.root);\n",
       "\n",
       "    this._init_header(this);\n",
       "    this._init_canvas(this);\n",
       "    this._init_toolbar(this);\n",
       "\n",
       "    var fig = this;\n",
       "\n",
       "    this.waiting = false;\n",
       "\n",
       "    this.ws.onopen =  function () {\n",
       "            fig.send_message(\"supports_binary\", {value: fig.supports_binary});\n",
       "            fig.send_message(\"send_image_mode\", {});\n",
       "            if (mpl.ratio != 1) {\n",
       "                fig.send_message(\"set_dpi_ratio\", {'dpi_ratio': mpl.ratio});\n",
       "            }\n",
       "            fig.send_message(\"refresh\", {});\n",
       "        }\n",
       "\n",
       "    this.imageObj.onload = function() {\n",
       "            if (fig.image_mode == 'full') {\n",
       "                // Full images could contain transparency (where diff images\n",
       "                // almost always do), so we need to clear the canvas so that\n",
       "                // there is no ghosting.\n",
       "                fig.context.clearRect(0, 0, fig.canvas.width, fig.canvas.height);\n",
       "            }\n",
       "            fig.context.drawImage(fig.imageObj, 0, 0);\n",
       "        };\n",
       "\n",
       "    this.imageObj.onunload = function() {\n",
       "        this.ws.close();\n",
       "    }\n",
       "\n",
       "    this.ws.onmessage = this._make_on_message_function(this);\n",
       "\n",
       "    this.ondownload = ondownload;\n",
       "}\n",
       "\n",
       "mpl.figure.prototype._init_header = function() {\n",
       "    var titlebar = $(\n",
       "        '<div class=\"ui-dialog-titlebar ui-widget-header ui-corner-all ' +\n",
       "        'ui-helper-clearfix\"/>');\n",
       "    var titletext = $(\n",
       "        '<div class=\"ui-dialog-title\" style=\"width: 100%; ' +\n",
       "        'text-align: center; padding: 3px;\"/>');\n",
       "    titlebar.append(titletext)\n",
       "    this.root.append(titlebar);\n",
       "    this.header = titletext[0];\n",
       "}\n",
       "\n",
       "\n",
       "\n",
       "mpl.figure.prototype._canvas_extra_style = function(canvas_div) {\n",
       "\n",
       "}\n",
       "\n",
       "\n",
       "mpl.figure.prototype._root_extra_style = function(canvas_div) {\n",
       "\n",
       "}\n",
       "\n",
       "mpl.figure.prototype._init_canvas = function() {\n",
       "    var fig = this;\n",
       "\n",
       "    var canvas_div = $('<div/>');\n",
       "\n",
       "    canvas_div.attr('style', 'position: relative; clear: both; outline: 0');\n",
       "\n",
       "    function canvas_keyboard_event(event) {\n",
       "        return fig.key_event(event, event['data']);\n",
       "    }\n",
       "\n",
       "    canvas_div.keydown('key_press', canvas_keyboard_event);\n",
       "    canvas_div.keyup('key_release', canvas_keyboard_event);\n",
       "    this.canvas_div = canvas_div\n",
       "    this._canvas_extra_style(canvas_div)\n",
       "    this.root.append(canvas_div);\n",
       "\n",
       "    var canvas = $('<canvas/>');\n",
       "    canvas.addClass('mpl-canvas');\n",
       "    canvas.attr('style', \"left: 0; top: 0; z-index: 0; outline: 0\")\n",
       "\n",
       "    this.canvas = canvas[0];\n",
       "    this.context = canvas[0].getContext(\"2d\");\n",
       "\n",
       "    var backingStore = this.context.backingStorePixelRatio ||\n",
       "\tthis.context.webkitBackingStorePixelRatio ||\n",
       "\tthis.context.mozBackingStorePixelRatio ||\n",
       "\tthis.context.msBackingStorePixelRatio ||\n",
       "\tthis.context.oBackingStorePixelRatio ||\n",
       "\tthis.context.backingStorePixelRatio || 1;\n",
       "\n",
       "    mpl.ratio = (window.devicePixelRatio || 1) / backingStore;\n",
       "\n",
       "    var rubberband = $('<canvas/>');\n",
       "    rubberband.attr('style', \"position: absolute; left: 0; top: 0; z-index: 1;\")\n",
       "\n",
       "    var pass_mouse_events = true;\n",
       "\n",
       "    canvas_div.resizable({\n",
       "        start: function(event, ui) {\n",
       "            pass_mouse_events = false;\n",
       "        },\n",
       "        resize: function(event, ui) {\n",
       "            fig.request_resize(ui.size.width, ui.size.height);\n",
       "        },\n",
       "        stop: function(event, ui) {\n",
       "            pass_mouse_events = true;\n",
       "            fig.request_resize(ui.size.width, ui.size.height);\n",
       "        },\n",
       "    });\n",
       "\n",
       "    function mouse_event_fn(event) {\n",
       "        if (pass_mouse_events)\n",
       "            return fig.mouse_event(event, event['data']);\n",
       "    }\n",
       "\n",
       "    rubberband.mousedown('button_press', mouse_event_fn);\n",
       "    rubberband.mouseup('button_release', mouse_event_fn);\n",
       "    // Throttle sequential mouse events to 1 every 20ms.\n",
       "    rubberband.mousemove('motion_notify', mouse_event_fn);\n",
       "\n",
       "    rubberband.mouseenter('figure_enter', mouse_event_fn);\n",
       "    rubberband.mouseleave('figure_leave', mouse_event_fn);\n",
       "\n",
       "    canvas_div.on(\"wheel\", function (event) {\n",
       "        event = event.originalEvent;\n",
       "        event['data'] = 'scroll'\n",
       "        if (event.deltaY < 0) {\n",
       "            event.step = 1;\n",
       "        } else {\n",
       "            event.step = -1;\n",
       "        }\n",
       "        mouse_event_fn(event);\n",
       "    });\n",
       "\n",
       "    canvas_div.append(canvas);\n",
       "    canvas_div.append(rubberband);\n",
       "\n",
       "    this.rubberband = rubberband;\n",
       "    this.rubberband_canvas = rubberband[0];\n",
       "    this.rubberband_context = rubberband[0].getContext(\"2d\");\n",
       "    this.rubberband_context.strokeStyle = \"#000000\";\n",
       "\n",
       "    this._resize_canvas = function(width, height) {\n",
       "        // Keep the size of the canvas, canvas container, and rubber band\n",
       "        // canvas in synch.\n",
       "        canvas_div.css('width', width)\n",
       "        canvas_div.css('height', height)\n",
       "\n",
       "        canvas.attr('width', width * mpl.ratio);\n",
       "        canvas.attr('height', height * mpl.ratio);\n",
       "        canvas.attr('style', 'width: ' + width + 'px; height: ' + height + 'px;');\n",
       "\n",
       "        rubberband.attr('width', width);\n",
       "        rubberband.attr('height', height);\n",
       "    }\n",
       "\n",
       "    // Set the figure to an initial 600x600px, this will subsequently be updated\n",
       "    // upon first draw.\n",
       "    this._resize_canvas(600, 600);\n",
       "\n",
       "    // Disable right mouse context menu.\n",
       "    $(this.rubberband_canvas).bind(\"contextmenu\",function(e){\n",
       "        return false;\n",
       "    });\n",
       "\n",
       "    function set_focus () {\n",
       "        canvas.focus();\n",
       "        canvas_div.focus();\n",
       "    }\n",
       "\n",
       "    window.setTimeout(set_focus, 100);\n",
       "}\n",
       "\n",
       "mpl.figure.prototype._init_toolbar = function() {\n",
       "    var fig = this;\n",
       "\n",
       "    var nav_element = $('<div/>')\n",
       "    nav_element.attr('style', 'width: 100%');\n",
       "    this.root.append(nav_element);\n",
       "\n",
       "    // Define a callback function for later on.\n",
       "    function toolbar_event(event) {\n",
       "        return fig.toolbar_button_onclick(event['data']);\n",
       "    }\n",
       "    function toolbar_mouse_event(event) {\n",
       "        return fig.toolbar_button_onmouseover(event['data']);\n",
       "    }\n",
       "\n",
       "    for(var toolbar_ind in mpl.toolbar_items) {\n",
       "        var name = mpl.toolbar_items[toolbar_ind][0];\n",
       "        var tooltip = mpl.toolbar_items[toolbar_ind][1];\n",
       "        var image = mpl.toolbar_items[toolbar_ind][2];\n",
       "        var method_name = mpl.toolbar_items[toolbar_ind][3];\n",
       "\n",
       "        if (!name) {\n",
       "            // put a spacer in here.\n",
       "            continue;\n",
       "        }\n",
       "        var button = $('<button/>');\n",
       "        button.addClass('ui-button ui-widget ui-state-default ui-corner-all ' +\n",
       "                        'ui-button-icon-only');\n",
       "        button.attr('role', 'button');\n",
       "        button.attr('aria-disabled', 'false');\n",
       "        button.click(method_name, toolbar_event);\n",
       "        button.mouseover(tooltip, toolbar_mouse_event);\n",
       "\n",
       "        var icon_img = $('<span/>');\n",
       "        icon_img.addClass('ui-button-icon-primary ui-icon');\n",
       "        icon_img.addClass(image);\n",
       "        icon_img.addClass('ui-corner-all');\n",
       "\n",
       "        var tooltip_span = $('<span/>');\n",
       "        tooltip_span.addClass('ui-button-text');\n",
       "        tooltip_span.html(tooltip);\n",
       "\n",
       "        button.append(icon_img);\n",
       "        button.append(tooltip_span);\n",
       "\n",
       "        nav_element.append(button);\n",
       "    }\n",
       "\n",
       "    var fmt_picker_span = $('<span/>');\n",
       "\n",
       "    var fmt_picker = $('<select/>');\n",
       "    fmt_picker.addClass('mpl-toolbar-option ui-widget ui-widget-content');\n",
       "    fmt_picker_span.append(fmt_picker);\n",
       "    nav_element.append(fmt_picker_span);\n",
       "    this.format_dropdown = fmt_picker[0];\n",
       "\n",
       "    for (var ind in mpl.extensions) {\n",
       "        var fmt = mpl.extensions[ind];\n",
       "        var option = $(\n",
       "            '<option/>', {selected: fmt === mpl.default_extension}).html(fmt);\n",
       "        fmt_picker.append(option)\n",
       "    }\n",
       "\n",
       "    // Add hover states to the ui-buttons\n",
       "    $( \".ui-button\" ).hover(\n",
       "        function() { $(this).addClass(\"ui-state-hover\");},\n",
       "        function() { $(this).removeClass(\"ui-state-hover\");}\n",
       "    );\n",
       "\n",
       "    var status_bar = $('<span class=\"mpl-message\"/>');\n",
       "    nav_element.append(status_bar);\n",
       "    this.message = status_bar[0];\n",
       "}\n",
       "\n",
       "mpl.figure.prototype.request_resize = function(x_pixels, y_pixels) {\n",
       "    // Request matplotlib to resize the figure. Matplotlib will then trigger a resize in the client,\n",
       "    // which will in turn request a refresh of the image.\n",
       "    this.send_message('resize', {'width': x_pixels, 'height': y_pixels});\n",
       "}\n",
       "\n",
       "mpl.figure.prototype.send_message = function(type, properties) {\n",
       "    properties['type'] = type;\n",
       "    properties['figure_id'] = this.id;\n",
       "    this.ws.send(JSON.stringify(properties));\n",
       "}\n",
       "\n",
       "mpl.figure.prototype.send_draw_message = function() {\n",
       "    if (!this.waiting) {\n",
       "        this.waiting = true;\n",
       "        this.ws.send(JSON.stringify({type: \"draw\", figure_id: this.id}));\n",
       "    }\n",
       "}\n",
       "\n",
       "\n",
       "mpl.figure.prototype.handle_save = function(fig, msg) {\n",
       "    var format_dropdown = fig.format_dropdown;\n",
       "    var format = format_dropdown.options[format_dropdown.selectedIndex].value;\n",
       "    fig.ondownload(fig, format);\n",
       "}\n",
       "\n",
       "\n",
       "mpl.figure.prototype.handle_resize = function(fig, msg) {\n",
       "    var size = msg['size'];\n",
       "    if (size[0] != fig.canvas.width || size[1] != fig.canvas.height) {\n",
       "        fig._resize_canvas(size[0], size[1]);\n",
       "        fig.send_message(\"refresh\", {});\n",
       "    };\n",
       "}\n",
       "\n",
       "mpl.figure.prototype.handle_rubberband = function(fig, msg) {\n",
       "    var x0 = msg['x0'] / mpl.ratio;\n",
       "    var y0 = (fig.canvas.height - msg['y0']) / mpl.ratio;\n",
       "    var x1 = msg['x1'] / mpl.ratio;\n",
       "    var y1 = (fig.canvas.height - msg['y1']) / mpl.ratio;\n",
       "    x0 = Math.floor(x0) + 0.5;\n",
       "    y0 = Math.floor(y0) + 0.5;\n",
       "    x1 = Math.floor(x1) + 0.5;\n",
       "    y1 = Math.floor(y1) + 0.5;\n",
       "    var min_x = Math.min(x0, x1);\n",
       "    var min_y = Math.min(y0, y1);\n",
       "    var width = Math.abs(x1 - x0);\n",
       "    var height = Math.abs(y1 - y0);\n",
       "\n",
       "    fig.rubberband_context.clearRect(\n",
       "        0, 0, fig.canvas.width, fig.canvas.height);\n",
       "\n",
       "    fig.rubberband_context.strokeRect(min_x, min_y, width, height);\n",
       "}\n",
       "\n",
       "mpl.figure.prototype.handle_figure_label = function(fig, msg) {\n",
       "    // Updates the figure title.\n",
       "    fig.header.textContent = msg['label'];\n",
       "}\n",
       "\n",
       "mpl.figure.prototype.handle_cursor = function(fig, msg) {\n",
       "    var cursor = msg['cursor'];\n",
       "    switch(cursor)\n",
       "    {\n",
       "    case 0:\n",
       "        cursor = 'pointer';\n",
       "        break;\n",
       "    case 1:\n",
       "        cursor = 'default';\n",
       "        break;\n",
       "    case 2:\n",
       "        cursor = 'crosshair';\n",
       "        break;\n",
       "    case 3:\n",
       "        cursor = 'move';\n",
       "        break;\n",
       "    }\n",
       "    fig.rubberband_canvas.style.cursor = cursor;\n",
       "}\n",
       "\n",
       "mpl.figure.prototype.handle_message = function(fig, msg) {\n",
       "    fig.message.textContent = msg['message'];\n",
       "}\n",
       "\n",
       "mpl.figure.prototype.handle_draw = function(fig, msg) {\n",
       "    // Request the server to send over a new figure.\n",
       "    fig.send_draw_message();\n",
       "}\n",
       "\n",
       "mpl.figure.prototype.handle_image_mode = function(fig, msg) {\n",
       "    fig.image_mode = msg['mode'];\n",
       "}\n",
       "\n",
       "mpl.figure.prototype.updated_canvas_event = function() {\n",
       "    // Called whenever the canvas gets updated.\n",
       "    this.send_message(\"ack\", {});\n",
       "}\n",
       "\n",
       "// A function to construct a web socket function for onmessage handling.\n",
       "// Called in the figure constructor.\n",
       "mpl.figure.prototype._make_on_message_function = function(fig) {\n",
       "    return function socket_on_message(evt) {\n",
       "        if (evt.data instanceof Blob) {\n",
       "            /* FIXME: We get \"Resource interpreted as Image but\n",
       "             * transferred with MIME type text/plain:\" errors on\n",
       "             * Chrome.  But how to set the MIME type?  It doesn't seem\n",
       "             * to be part of the websocket stream */\n",
       "            evt.data.type = \"image/png\";\n",
       "\n",
       "            /* Free the memory for the previous frames */\n",
       "            if (fig.imageObj.src) {\n",
       "                (window.URL || window.webkitURL).revokeObjectURL(\n",
       "                    fig.imageObj.src);\n",
       "            }\n",
       "\n",
       "            fig.imageObj.src = (window.URL || window.webkitURL).createObjectURL(\n",
       "                evt.data);\n",
       "            fig.updated_canvas_event();\n",
       "            fig.waiting = false;\n",
       "            return;\n",
       "        }\n",
       "        else if (typeof evt.data === 'string' && evt.data.slice(0, 21) == \"data:image/png;base64\") {\n",
       "            fig.imageObj.src = evt.data;\n",
       "            fig.updated_canvas_event();\n",
       "            fig.waiting = false;\n",
       "            return;\n",
       "        }\n",
       "\n",
       "        var msg = JSON.parse(evt.data);\n",
       "        var msg_type = msg['type'];\n",
       "\n",
       "        // Call the  \"handle_{type}\" callback, which takes\n",
       "        // the figure and JSON message as its only arguments.\n",
       "        try {\n",
       "            var callback = fig[\"handle_\" + msg_type];\n",
       "        } catch (e) {\n",
       "            console.log(\"No handler for the '\" + msg_type + \"' message type: \", msg);\n",
       "            return;\n",
       "        }\n",
       "\n",
       "        if (callback) {\n",
       "            try {\n",
       "                // console.log(\"Handling '\" + msg_type + \"' message: \", msg);\n",
       "                callback(fig, msg);\n",
       "            } catch (e) {\n",
       "                console.log(\"Exception inside the 'handler_\" + msg_type + \"' callback:\", e, e.stack, msg);\n",
       "            }\n",
       "        }\n",
       "    };\n",
       "}\n",
       "\n",
       "// from http://stackoverflow.com/questions/1114465/getting-mouse-location-in-canvas\n",
       "mpl.findpos = function(e) {\n",
       "    //this section is from http://www.quirksmode.org/js/events_properties.html\n",
       "    var targ;\n",
       "    if (!e)\n",
       "        e = window.event;\n",
       "    if (e.target)\n",
       "        targ = e.target;\n",
       "    else if (e.srcElement)\n",
       "        targ = e.srcElement;\n",
       "    if (targ.nodeType == 3) // defeat Safari bug\n",
       "        targ = targ.parentNode;\n",
       "\n",
       "    // jQuery normalizes the pageX and pageY\n",
       "    // pageX,Y are the mouse positions relative to the document\n",
       "    // offset() returns the position of the element relative to the document\n",
       "    var x = e.pageX - $(targ).offset().left;\n",
       "    var y = e.pageY - $(targ).offset().top;\n",
       "\n",
       "    return {\"x\": x, \"y\": y};\n",
       "};\n",
       "\n",
       "/*\n",
       " * return a copy of an object with only non-object keys\n",
       " * we need this to avoid circular references\n",
       " * http://stackoverflow.com/a/24161582/3208463\n",
       " */\n",
       "function simpleKeys (original) {\n",
       "  return Object.keys(original).reduce(function (obj, key) {\n",
       "    if (typeof original[key] !== 'object')\n",
       "        obj[key] = original[key]\n",
       "    return obj;\n",
       "  }, {});\n",
       "}\n",
       "\n",
       "mpl.figure.prototype.mouse_event = function(event, name) {\n",
       "    var canvas_pos = mpl.findpos(event)\n",
       "\n",
       "    if (name === 'button_press')\n",
       "    {\n",
       "        this.canvas.focus();\n",
       "        this.canvas_div.focus();\n",
       "    }\n",
       "\n",
       "    var x = canvas_pos.x * mpl.ratio;\n",
       "    var y = canvas_pos.y * mpl.ratio;\n",
       "\n",
       "    this.send_message(name, {x: x, y: y, button: event.button,\n",
       "                             step: event.step,\n",
       "                             guiEvent: simpleKeys(event)});\n",
       "\n",
       "    /* This prevents the web browser from automatically changing to\n",
       "     * the text insertion cursor when the button is pressed.  We want\n",
       "     * to control all of the cursor setting manually through the\n",
       "     * 'cursor' event from matplotlib */\n",
       "    event.preventDefault();\n",
       "    return false;\n",
       "}\n",
       "\n",
       "mpl.figure.prototype._key_event_extra = function(event, name) {\n",
       "    // Handle any extra behaviour associated with a key event\n",
       "}\n",
       "\n",
       "mpl.figure.prototype.key_event = function(event, name) {\n",
       "\n",
       "    // Prevent repeat events\n",
       "    if (name == 'key_press')\n",
       "    {\n",
       "        if (event.which === this._key)\n",
       "            return;\n",
       "        else\n",
       "            this._key = event.which;\n",
       "    }\n",
       "    if (name == 'key_release')\n",
       "        this._key = null;\n",
       "\n",
       "    var value = '';\n",
       "    if (event.ctrlKey && event.which != 17)\n",
       "        value += \"ctrl+\";\n",
       "    if (event.altKey && event.which != 18)\n",
       "        value += \"alt+\";\n",
       "    if (event.shiftKey && event.which != 16)\n",
       "        value += \"shift+\";\n",
       "\n",
       "    value += 'k';\n",
       "    value += event.which.toString();\n",
       "\n",
       "    this._key_event_extra(event, name);\n",
       "\n",
       "    this.send_message(name, {key: value,\n",
       "                             guiEvent: simpleKeys(event)});\n",
       "    return false;\n",
       "}\n",
       "\n",
       "mpl.figure.prototype.toolbar_button_onclick = function(name) {\n",
       "    if (name == 'download') {\n",
       "        this.handle_save(this, null);\n",
       "    } else {\n",
       "        this.send_message(\"toolbar_button\", {name: name});\n",
       "    }\n",
       "};\n",
       "\n",
       "mpl.figure.prototype.toolbar_button_onmouseover = function(tooltip) {\n",
       "    this.message.textContent = tooltip;\n",
       "};\n",
       "mpl.toolbar_items = [[\"Home\", \"Reset original view\", \"fa fa-home icon-home\", \"home\"], [\"Back\", \"Back to  previous view\", \"fa fa-arrow-left icon-arrow-left\", \"back\"], [\"Forward\", \"Forward to next view\", \"fa fa-arrow-right icon-arrow-right\", \"forward\"], [\"\", \"\", \"\", \"\"], [\"Pan\", \"Pan axes with left mouse, zoom with right\", \"fa fa-arrows icon-move\", \"pan\"], [\"Zoom\", \"Zoom to rectangle\", \"fa fa-square-o icon-check-empty\", \"zoom\"], [\"\", \"\", \"\", \"\"], [\"Download\", \"Download plot\", \"fa fa-floppy-o icon-save\", \"download\"]];\n",
       "\n",
       "mpl.extensions = [\"eps\", \"jpeg\", \"pdf\", \"png\", \"ps\", \"raw\", \"svg\", \"tif\"];\n",
       "\n",
       "mpl.default_extension = \"png\";var comm_websocket_adapter = function(comm) {\n",
       "    // Create a \"websocket\"-like object which calls the given IPython comm\n",
       "    // object with the appropriate methods. Currently this is a non binary\n",
       "    // socket, so there is still some room for performance tuning.\n",
       "    var ws = {};\n",
       "\n",
       "    ws.close = function() {\n",
       "        comm.close()\n",
       "    };\n",
       "    ws.send = function(m) {\n",
       "        //console.log('sending', m);\n",
       "        comm.send(m);\n",
       "    };\n",
       "    // Register the callback with on_msg.\n",
       "    comm.on_msg(function(msg) {\n",
       "        //console.log('receiving', msg['content']['data'], msg);\n",
       "        // Pass the mpl event to the overriden (by mpl) onmessage function.\n",
       "        ws.onmessage(msg['content']['data'])\n",
       "    });\n",
       "    return ws;\n",
       "}\n",
       "\n",
       "mpl.mpl_figure_comm = function(comm, msg) {\n",
       "    // This is the function which gets called when the mpl process\n",
       "    // starts-up an IPython Comm through the \"matplotlib\" channel.\n",
       "\n",
       "    var id = msg.content.data.id;\n",
       "    // Get hold of the div created by the display call when the Comm\n",
       "    // socket was opened in Python.\n",
       "    var element = $(\"#\" + id);\n",
       "    var ws_proxy = comm_websocket_adapter(comm)\n",
       "\n",
       "    function ondownload(figure, format) {\n",
       "        window.open(figure.imageObj.src);\n",
       "    }\n",
       "\n",
       "    var fig = new mpl.figure(id, ws_proxy,\n",
       "                           ondownload,\n",
       "                           element.get(0));\n",
       "\n",
       "    // Call onopen now - mpl needs it, as it is assuming we've passed it a real\n",
       "    // web socket which is closed, not our websocket->open comm proxy.\n",
       "    ws_proxy.onopen();\n",
       "\n",
       "    fig.parent_element = element.get(0);\n",
       "    fig.cell_info = mpl.find_output_cell(\"<div id='\" + id + \"'></div>\");\n",
       "    if (!fig.cell_info) {\n",
       "        console.error(\"Failed to find cell for figure\", id, fig);\n",
       "        return;\n",
       "    }\n",
       "\n",
       "    var output_index = fig.cell_info[2]\n",
       "    var cell = fig.cell_info[0];\n",
       "\n",
       "};\n",
       "\n",
       "mpl.figure.prototype.handle_close = function(fig, msg) {\n",
       "    var width = fig.canvas.width/mpl.ratio\n",
       "    fig.root.unbind('remove')\n",
       "\n",
       "    // Update the output cell to use the data from the current canvas.\n",
       "    fig.push_to_output();\n",
       "    var dataURL = fig.canvas.toDataURL();\n",
       "    // Re-enable the keyboard manager in IPython - without this line, in FF,\n",
       "    // the notebook keyboard shortcuts fail.\n",
       "    IPython.keyboard_manager.enable()\n",
       "    $(fig.parent_element).html('<img src=\"' + dataURL + '\" width=\"' + width + '\">');\n",
       "    fig.close_ws(fig, msg);\n",
       "}\n",
       "\n",
       "mpl.figure.prototype.close_ws = function(fig, msg){\n",
       "    fig.send_message('closing', msg);\n",
       "    // fig.ws.close()\n",
       "}\n",
       "\n",
       "mpl.figure.prototype.push_to_output = function(remove_interactive) {\n",
       "    // Turn the data on the canvas into data in the output cell.\n",
       "    var width = this.canvas.width/mpl.ratio\n",
       "    var dataURL = this.canvas.toDataURL();\n",
       "    this.cell_info[1]['text/html'] = '<img src=\"' + dataURL + '\" width=\"' + width + '\">';\n",
       "}\n",
       "\n",
       "mpl.figure.prototype.updated_canvas_event = function() {\n",
       "    // Tell IPython that the notebook contents must change.\n",
       "    IPython.notebook.set_dirty(true);\n",
       "    this.send_message(\"ack\", {});\n",
       "    var fig = this;\n",
       "    // Wait a second, then push the new image to the DOM so\n",
       "    // that it is saved nicely (might be nice to debounce this).\n",
       "    setTimeout(function () { fig.push_to_output() }, 1000);\n",
       "}\n",
       "\n",
       "mpl.figure.prototype._init_toolbar = function() {\n",
       "    var fig = this;\n",
       "\n",
       "    var nav_element = $('<div/>')\n",
       "    nav_element.attr('style', 'width: 100%');\n",
       "    this.root.append(nav_element);\n",
       "\n",
       "    // Define a callback function for later on.\n",
       "    function toolbar_event(event) {\n",
       "        return fig.toolbar_button_onclick(event['data']);\n",
       "    }\n",
       "    function toolbar_mouse_event(event) {\n",
       "        return fig.toolbar_button_onmouseover(event['data']);\n",
       "    }\n",
       "\n",
       "    for(var toolbar_ind in mpl.toolbar_items){\n",
       "        var name = mpl.toolbar_items[toolbar_ind][0];\n",
       "        var tooltip = mpl.toolbar_items[toolbar_ind][1];\n",
       "        var image = mpl.toolbar_items[toolbar_ind][2];\n",
       "        var method_name = mpl.toolbar_items[toolbar_ind][3];\n",
       "\n",
       "        if (!name) { continue; };\n",
       "\n",
       "        var button = $('<button class=\"btn btn-default\" href=\"#\" title=\"' + name + '\"><i class=\"fa ' + image + ' fa-lg\"></i></button>');\n",
       "        button.click(method_name, toolbar_event);\n",
       "        button.mouseover(tooltip, toolbar_mouse_event);\n",
       "        nav_element.append(button);\n",
       "    }\n",
       "\n",
       "    // Add the status bar.\n",
       "    var status_bar = $('<span class=\"mpl-message\" style=\"text-align:right; float: right;\"/>');\n",
       "    nav_element.append(status_bar);\n",
       "    this.message = status_bar[0];\n",
       "\n",
       "    // Add the close button to the window.\n",
       "    var buttongrp = $('<div class=\"btn-group inline pull-right\"></div>');\n",
       "    var button = $('<button class=\"btn btn-mini btn-primary\" href=\"#\" title=\"Stop Interaction\"><i class=\"fa fa-power-off icon-remove icon-large\"></i></button>');\n",
       "    button.click(function (evt) { fig.handle_close(fig, {}); } );\n",
       "    button.mouseover('Stop Interaction', toolbar_mouse_event);\n",
       "    buttongrp.append(button);\n",
       "    var titlebar = this.root.find($('.ui-dialog-titlebar'));\n",
       "    titlebar.prepend(buttongrp);\n",
       "}\n",
       "\n",
       "mpl.figure.prototype._root_extra_style = function(el){\n",
       "    var fig = this\n",
       "    el.on(\"remove\", function(){\n",
       "\tfig.close_ws(fig, {});\n",
       "    });\n",
       "}\n",
       "\n",
       "mpl.figure.prototype._canvas_extra_style = function(el){\n",
       "    // this is important to make the div 'focusable\n",
       "    el.attr('tabindex', 0)\n",
       "    // reach out to IPython and tell the keyboard manager to turn it's self\n",
       "    // off when our div gets focus\n",
       "\n",
       "    // location in version 3\n",
       "    if (IPython.notebook.keyboard_manager) {\n",
       "        IPython.notebook.keyboard_manager.register_events(el);\n",
       "    }\n",
       "    else {\n",
       "        // location in version 2\n",
       "        IPython.keyboard_manager.register_events(el);\n",
       "    }\n",
       "\n",
       "}\n",
       "\n",
       "mpl.figure.prototype._key_event_extra = function(event, name) {\n",
       "    var manager = IPython.notebook.keyboard_manager;\n",
       "    if (!manager)\n",
       "        manager = IPython.keyboard_manager;\n",
       "\n",
       "    // Check for shift+enter\n",
       "    if (event.shiftKey && event.which == 13) {\n",
       "        this.canvas_div.blur();\n",
       "        // select the cell after this one\n",
       "        var index = IPython.notebook.find_cell_index(this.cell_info[0]);\n",
       "        IPython.notebook.select(index + 1);\n",
       "    }\n",
       "}\n",
       "\n",
       "mpl.figure.prototype.handle_save = function(fig, msg) {\n",
       "    fig.ondownload(fig, null);\n",
       "}\n",
       "\n",
       "\n",
       "mpl.find_output_cell = function(html_output) {\n",
       "    // Return the cell and output element which can be found *uniquely* in the notebook.\n",
       "    // Note - this is a bit hacky, but it is done because the \"notebook_saving.Notebook\"\n",
       "    // IPython event is triggered only after the cells have been serialised, which for\n",
       "    // our purposes (turning an active figure into a static one), is too late.\n",
       "    var cells = IPython.notebook.get_cells();\n",
       "    var ncells = cells.length;\n",
       "    for (var i=0; i<ncells; i++) {\n",
       "        var cell = cells[i];\n",
       "        if (cell.cell_type === 'code'){\n",
       "            for (var j=0; j<cell.output_area.outputs.length; j++) {\n",
       "                var data = cell.output_area.outputs[j];\n",
       "                if (data.data) {\n",
       "                    // IPython >= 3 moved mimebundle to data attribute of output\n",
       "                    data = data.data;\n",
       "                }\n",
       "                if (data['text/html'] == html_output) {\n",
       "                    return [cell, data, j];\n",
       "                }\n",
       "            }\n",
       "        }\n",
       "    }\n",
       "}\n",
       "\n",
       "// Register the function which deals with the matplotlib target/channel.\n",
       "// The kernel may be null if the page has been refreshed.\n",
       "if (IPython.notebook.kernel != null) {\n",
       "    IPython.notebook.kernel.comm_manager.register_target('matplotlib', mpl.mpl_figure_comm);\n",
       "}\n"
      ],
      "text/plain": [
       "<IPython.core.display.Javascript object>"
      ]
     },
     "metadata": {},
     "output_type": "display_data"
    },
    {
     "data": {
      "text/html": [
       "<img src=\"data:image/png;base64,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\" width=\"640\">"
      ],
      "text/plain": [
       "<IPython.core.display.HTML object>"
      ]
     },
     "metadata": {},
     "output_type": "display_data"
    },
    {
     "data": {
      "text/plain": [
       "[<matplotlib.lines.Line2D at 0x11695b710>]"
      ]
     },
     "execution_count": 19,
     "metadata": {},
     "output_type": "execute_result"
    }
   ],
   "source": [
    "% matplotlib notebook\n",
    "import matplotlib.pyplot as plt\n",
    "\n",
    "x = np.linspace(-10, 10, 100)\n",
    "y = np.sin(x)\n",
    "plt.plot(x, y, marker=\"x\")"
   ]
  },
  {
   "cell_type": "markdown",
   "metadata": {},
   "source": [
    "# pandas"
   ]
  },
  {
   "cell_type": "code",
   "execution_count": 28,
   "metadata": {},
   "outputs": [
    {
     "data": {
      "text/html": [
       "<div>\n",
       "<table border=\"1\" class=\"dataframe\">\n",
       "  <thead>\n",
       "    <tr style=\"text-align: right;\">\n",
       "      <th></th>\n",
       "      <th>Age</th>\n",
       "      <th>Location</th>\n",
       "      <th>Name</th>\n",
       "    </tr>\n",
       "  </thead>\n",
       "  <tbody>\n",
       "    <tr>\n",
       "      <th>0</th>\n",
       "      <td>24</td>\n",
       "      <td>New York</td>\n",
       "      <td>John</td>\n",
       "    </tr>\n",
       "    <tr>\n",
       "      <th>1</th>\n",
       "      <td>13</td>\n",
       "      <td>Paris</td>\n",
       "      <td>Anna</td>\n",
       "    </tr>\n",
       "    <tr>\n",
       "      <th>2</th>\n",
       "      <td>53</td>\n",
       "      <td>Berlin</td>\n",
       "      <td>Peter</td>\n",
       "    </tr>\n",
       "    <tr>\n",
       "      <th>3</th>\n",
       "      <td>33</td>\n",
       "      <td>London</td>\n",
       "      <td>Linda</td>\n",
       "    </tr>\n",
       "  </tbody>\n",
       "</table>\n",
       "</div>"
      ],
      "text/plain": [
       "   Age  Location   Name\n",
       "0   24  New York   John\n",
       "1   13     Paris   Anna\n",
       "2   53    Berlin  Peter\n",
       "3   33    London  Linda"
      ]
     },
     "execution_count": 28,
     "metadata": {},
     "output_type": "execute_result"
    }
   ],
   "source": [
    "import pandas as pd\n",
    "\n",
    "data = {'Name': [\"John\", \"Anna\", \"Peter\", \"Linda\"],\n",
    "       'Location': [\"New York\", \"Paris\", \"Berlin\", \"London\"],\n",
    "        'Age': [24, 13, 53, 33]\n",
    "       }\n",
    "\n",
    "data_pandas = pd.DataFrame(data)\n",
    "data_pandas"
   ]
  },
  {
   "cell_type": "markdown",
   "metadata": {},
   "source": [
    "=========================================="
   ]
  },
  {
   "cell_type": "code",
   "execution_count": 29,
   "metadata": {},
   "outputs": [
    {
     "data": {
      "text/html": [
       "<div>\n",
       "<table border=\"1\" class=\"dataframe\">\n",
       "  <thead>\n",
       "    <tr style=\"text-align: right;\">\n",
       "      <th></th>\n",
       "      <th>Age</th>\n",
       "      <th>Location</th>\n",
       "      <th>Name</th>\n",
       "    </tr>\n",
       "  </thead>\n",
       "  <tbody>\n",
       "    <tr>\n",
       "      <th>2</th>\n",
       "      <td>53</td>\n",
       "      <td>Berlin</td>\n",
       "      <td>Peter</td>\n",
       "    </tr>\n",
       "    <tr>\n",
       "      <th>3</th>\n",
       "      <td>33</td>\n",
       "      <td>London</td>\n",
       "      <td>Linda</td>\n",
       "    </tr>\n",
       "  </tbody>\n",
       "</table>\n",
       "</div>"
      ],
      "text/plain": [
       "   Age Location   Name\n",
       "2   53   Berlin  Peter\n",
       "3   33   London  Linda"
      ]
     },
     "execution_count": 29,
     "metadata": {},
     "output_type": "execute_result"
    }
   ],
   "source": [
    "data_pandas[data_pandas.Age > 30]"
   ]
  },
  {
   "cell_type": "markdown",
   "metadata": {},
   "source": [
    "# 代表的なアルゴリズム"
   ]
  },
  {
   "cell_type": "code",
   "execution_count": 8,
   "metadata": {
    "collapsed": true
   },
   "outputs": [],
   "source": [
    "from sklearn import datasets\n",
    "from sklearn.model_selection import train_test_split"
   ]
  },
  {
   "cell_type": "code",
   "execution_count": 15,
   "metadata": {},
   "outputs": [],
   "source": [
    "iris = datasets.load_iris()\n",
    "X_train, X_test, y_train, y_test = train_test_split(iris.data, iris.target, random_state=42)"
   ]
  },
  {
   "cell_type": "code",
   "execution_count": 16,
   "metadata": {},
   "outputs": [
    {
     "data": {
      "text/plain": [
       "1.0"
      ]
     },
     "execution_count": 16,
     "metadata": {},
     "output_type": "execute_result"
    }
   ],
   "source": [
    "#K近傍法\n",
    "from sklearn.neighbors import KNeighborsClassifier\n",
    "knn = KNeighborsClassifier(n_neighbors=1).fit(X_train, y_train)\n",
    "knn.score(X_test, y_test)"
   ]
  },
  {
   "cell_type": "code",
   "execution_count": 17,
   "metadata": {},
   "outputs": [
    {
     "data": {
      "text/plain": [
       "0.94860042541908784"
      ]
     },
     "execution_count": 17,
     "metadata": {},
     "output_type": "execute_result"
    }
   ],
   "source": [
    "#線形回帰\n",
    "from sklearn.linear_model import LinearRegression\n",
    "line_regression = LinearRegression().fit(X_train, y_train)\n",
    "line_regression.score(X_test, y_test)"
   ]
  },
  {
   "cell_type": "code",
   "execution_count": 18,
   "metadata": {},
   "outputs": [
    {
     "data": {
      "text/plain": [
       "1.0"
      ]
     },
     "execution_count": 18,
     "metadata": {},
     "output_type": "execute_result"
    }
   ],
   "source": [
    "#ベイズ\n",
    "from sklearn.naive_bayes import GaussianNB\n",
    "gnb = GaussianNB().fit(X_train, y_train)\n",
    "gnb.score(X_test, y_test)"
   ]
  },
  {
   "cell_type": "code",
   "execution_count": 19,
   "metadata": {},
   "outputs": [
    {
     "data": {
      "text/plain": [
       "1.0"
      ]
     },
     "execution_count": 19,
     "metadata": {},
     "output_type": "execute_result"
    }
   ],
   "source": [
    "#決定木\n",
    "from sklearn import tree\n",
    "clf = tree.DecisionTreeClassifier(max_depth=3)\n",
    "clf = clf.fit(X_train, y_train)\n",
    "clf.score(X_test, y_test)"
   ]
  },
  {
   "cell_type": "code",
   "execution_count": 20,
   "metadata": {},
   "outputs": [
    {
     "data": {
      "text/plain": [
       "0.9970108161258604"
      ]
     },
     "execution_count": 20,
     "metadata": {},
     "output_type": "execute_result"
    }
   ],
   "source": [
    "#ランダムフォレスト\n",
    "from sklearn.ensemble import RandomForestRegressor\n",
    "forest = RandomForestRegressor()\n",
    "forest.fit(X_train, y_train)\n",
    "forest.score(X_test, y_test)"
   ]
  },
  {
   "cell_type": "code",
   "execution_count": 21,
   "metadata": {},
   "outputs": [
    {
     "data": {
      "text/plain": [
       "1.0"
      ]
     },
     "execution_count": 21,
     "metadata": {},
     "output_type": "execute_result"
    }
   ],
   "source": [
    "#SVM\n",
    "from sklearn import svm\n",
    "svc = svm.SVC()\n",
    "svc.fit(X_train, y_train)\n",
    "svc.score(X_test, y_test)"
   ]
  },
  {
   "cell_type": "code",
   "execution_count": 22,
   "metadata": {},
   "outputs": [
    {
     "data": {
      "text/plain": [
       "1.0"
      ]
     },
     "execution_count": 22,
     "metadata": {},
     "output_type": "execute_result"
    }
   ],
   "source": [
    "#nn\n",
    "from sklearn.neural_network import MLPClassifier\n",
    "nn = MLPClassifier(solver=\"sgd\",random_state=0,max_iter=10000)\n",
    "nn.fit(X_train, y_train)\n",
    "nn.score(X_test, y_test)"
   ]
  },
  {
   "cell_type": "markdown",
   "metadata": {},
   "source": [
    "# 距離計算"
   ]
  },
  {
   "cell_type": "markdown",
   "metadata": {},
   "source": [
    "## 累乗"
   ]
  },
  {
   "cell_type": "code",
   "execution_count": 8,
   "metadata": {},
   "outputs": [
    {
     "name": "stdout",
     "output_type": "stream",
     "text": [
      "1\n",
      "2\n",
      "4\n",
      "8\n"
     ]
    }
   ],
   "source": [
    "import math\n",
    "pow_list = range(4)\n",
    "\n",
    "def pow_gen(from_val, pow_list):\n",
    "    for pow_val in pow_list:\n",
    "        print(pow(from_val, pow_val)) #pow：累乗計算\n",
    "\n",
    "pow_gen(2, pow_list) #2乗"
   ]
  },
  {
   "cell_type": "markdown",
   "metadata": {},
   "source": [
    "## ユーグリド距離"
   ]
  },
  {
   "cell_type": "markdown",
   "metadata": {},
   "source": [
    "$$d(p, q) = d(q, p) = \\sqrt{ (q1- p1)^{2} + (q2- p2)^{2} ... (qn- pn)^{2}} = \\sqrt{\\sum_{i=1}^{n}  (qi- pi)^{2}} $$"
   ]
  },
  {
   "cell_type": "code",
   "execution_count": 16,
   "metadata": {
    "collapsed": true
   },
   "outputs": [],
   "source": [
    "def euclidean_distance(q, p, length):\n",
    "    distance = 0\n",
    "    n = length\n",
    "    for i in range(n):\n",
    "        distance += pow((q[i] - p[i]), 2)\n",
    "    return math.sqrt(distance)"
   ]
  },
  {
   "cell_type": "code",
   "execution_count": 49,
   "metadata": {},
   "outputs": [
    {
     "name": "stdout",
     "output_type": "stream",
     "text": [
      "Distance: 3.4641016151377544\n"
     ]
    }
   ],
   "source": [
    "data1 = [2, 2, 2, 'a']\n",
    "data2 = [4, 4, 4, 'b']\n",
    "distance = euclidean_distance(data1, data2, 3)\n",
    "print('Distance: ' + repr(distance))"
   ]
  },
  {
   "cell_type": "markdown",
   "metadata": {},
   "source": [
    "# 類似度"
   ]
  },
  {
   "cell_type": "code",
   "execution_count": 34,
   "metadata": {
    "collapsed": true
   },
   "outputs": [],
   "source": [
    "import operator \n",
    "def get_neighbors(training_set, testInstance, k):\n",
    "    distances = []\n",
    "    length = len(testInstance)-1\n",
    "    for x in range(len(training_set)):\n",
    "        dist = euclidean_distance(testInstance, training_set[x], length)\n",
    "        distances.append((training_set[x], dist))\n",
    "    print(distances)\n",
    "    distances.sort(key=operator.itemgetter(1))\n",
    "    print(distances)\n",
    "    neighbors = []\n",
    "    for x in range(k):\n",
    "        neighbors.append(distances[x][0])\n",
    "    return neighbors"
   ]
  },
  {
   "cell_type": "code",
   "execution_count": 50,
   "metadata": {},
   "outputs": [
    {
     "name": "stdout",
     "output_type": "stream",
     "text": [
      "[([2, 2, 2, 'a'], 5.196152422706632), ([4, 4, 4, 'b'], 1.7320508075688772)]\n",
      "[([4, 4, 4, 'b'], 1.7320508075688772), ([2, 2, 2, 'a'], 5.196152422706632)]\n",
      "[[4, 4, 4, 'b']]\n"
     ]
    }
   ],
   "source": [
    "training_set = [[2, 2, 2, 'a'], [4, 4, 4, 'b']]\n",
    "testInstance = [5, 5, 5, 'c']\n",
    "k = 1\n",
    "#距離が近い順に並べる\n",
    "neighbors = get_neighbors(training_set, testInstance, k)\n",
    "print(neighbors)"
   ]
  },
  {
   "cell_type": "markdown",
   "metadata": {},
   "source": [
    "# クラス投票"
   ]
  },
  {
   "cell_type": "code",
   "execution_count": 45,
   "metadata": {
    "collapsed": true
   },
   "outputs": [],
   "source": [
    "def get_response(neighbors):\n",
    "    class_votes = {}\n",
    "    for x in range(len(neighbors)):\n",
    "        response = neighbors[x][-1]\n",
    "        if response in class_votes:\n",
    "            class_votes[response] += 1\n",
    "        else:\n",
    "            class_votes[response] = 1\n",
    "    sorted_votes = sorted(class_votes.items(), key=operator.itemgetter(1), reverse=True)\n",
    "    return sorted_votes[0][0]"
   ]
  },
  {
   "cell_type": "code",
   "execution_count": 46,
   "metadata": {},
   "outputs": [
    {
     "name": "stdout",
     "output_type": "stream",
     "text": [
      "a\n"
     ]
    }
   ],
   "source": [
    "neighbors = [[1,1,1,'a'], [2,2,2,'a'], [3,3,3,'b']]\n",
    "response = get_response(neighbors)\n",
    "print(response)"
   ]
  },
  {
   "cell_type": "code",
   "execution_count": null,
   "metadata": {
    "collapsed": true
   },
   "outputs": [],
   "source": []
  },
  {
   "cell_type": "markdown",
   "metadata": {},
   "source": [
    "# lirsデータknn(TODO)"
   ]
  },
  {
   "cell_type": "code",
   "execution_count": 2,
   "metadata": {
    "collapsed": true
   },
   "outputs": [],
   "source": [
    "# import math\n",
    "# import operator\n",
    "# from sklearn.model_selection import train_test_split\n",
    "# from sklearn.datasets import load_iris\n",
    "# iris_dataset = load_iris()\n",
    "\n",
    "# X_train, X_test, y_train, y_test = train_test_split(\n",
    "#                     iris_dataset['data'], iris_dataset['target'], random_state=0)\n",
    "\n",
    "# def euclidean_distance(q, p, length):\n",
    "#     distance = 0\n",
    "#     n = length\n",
    "#     for i in range(n):\n",
    "#         distance += pow((q[i] - p[i]), 2)\n",
    "#     return math.sqrt(distance)\n",
    "\n",
    "# def get_neighbors(training_set, testInstance, k):\n",
    "#     distances = []\n",
    "#     length = len(testInstance)-1\n",
    "#     for x in range(len(training_set)):\n",
    "#         dist = euclidean_distance(testInstance, training_set[x], length)\n",
    "#         distances.append((training_set[x], dist))\n",
    "# #     print(distances)\n",
    "#     distances.sort(key=operator.itemgetter(1))\n",
    "# #     print(distances)\n",
    "#     neighbors = []\n",
    "#     for x in range(k):\n",
    "#         neighbors.append(distances[x][0])\n",
    "#     return neighbors\n",
    "\n",
    "# def get_response(neighbors):\n",
    "#     class_votes = {}\n",
    "#     for x in range(len(neighbors)):\n",
    "#         response = neighbors[x][-1]\n",
    "#         if response in class_votes:\n",
    "#             class_votes[response] += 1\n",
    "#         else:\n",
    "#             class_votes[response] = 1\n",
    "#     sorted_votes = sorted(class_votes.items(), key=operator.itemgetter(1), reverse=True)\n",
    "#     return sorted_votes\n"
   ]
  },
  {
   "cell_type": "code",
   "execution_count": 3,
   "metadata": {
    "collapsed": true
   },
   "outputs": [],
   "source": [
    "# print(\"元データ：\", X_train[0])\n",
    "# #データAとデータBを比べて、距離が近い順に並べて上からk個取得\n",
    "# k = 3\n",
    "# neighbors = get_neighbors(X_train, X_train[0], k)\n",
    "# # print(neighbors.shape)\n",
    "# print(neighbors[:])\n",
    "# # response = get_response(neighbors) #\n",
    "# # print(response)\n",
    "# #TODO:バグってる"
   ]
  },
  {
   "cell_type": "code",
   "execution_count": null,
   "metadata": {
    "collapsed": true
   },
   "outputs": [],
   "source": []
  }
 ],
 "metadata": {
  "kernelspec": {
   "display_name": "Python 3",
   "language": "python",
   "name": "python3"
  },
  "language_info": {
   "codemirror_mode": {
    "name": "ipython",
    "version": 3
   },
   "file_extension": ".py",
   "mimetype": "text/x-python",
   "name": "python",
   "nbconvert_exporter": "python",
   "pygments_lexer": "ipython3",
   "version": "3.5.4"
  },
  "widgets": {
   "state": {},
   "version": "1.1.2"
  }
 },
 "nbformat": 4,
 "nbformat_minor": 2
}
